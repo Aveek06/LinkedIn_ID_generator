{
 "cells": [
  {
   "cell_type": "code",
   "execution_count": 35,
   "metadata": {},
   "outputs": [],
   "source": [
    "import pandas as pd\n",
    "import numpy as np\n",
    "from selenium.webdriver.common.by import By\n",
    "from selenium.webdriver.support.ui import WebDriverWait\n",
    "from selenium.webdriver.support import expected_conditions as EC\n",
    "from datetime import datetime, date, time\n",
    "import time\n",
    "from selenium import webdriver\n",
    "from bs4 import BeautifulSoup\n",
    "import re\n",
    "from selenium.common.exceptions import UnexpectedAlertPresentException\n",
    "from selenium.common.exceptions import NoAlertPresentException"
   ]
  },
  {
   "cell_type": "code",
   "execution_count": 15,
   "metadata": {},
   "outputs": [
    {
     "data": {
      "text/html": [
       "<div>\n",
       "<style scoped>\n",
       "    .dataframe tbody tr th:only-of-type {\n",
       "        vertical-align: middle;\n",
       "    }\n",
       "\n",
       "    .dataframe tbody tr th {\n",
       "        vertical-align: top;\n",
       "    }\n",
       "\n",
       "    .dataframe thead th {\n",
       "        text-align: right;\n",
       "    }\n",
       "</style>\n",
       "<table border=\"1\" class=\"dataframe\">\n",
       "  <thead>\n",
       "    <tr style=\"text-align: right;\">\n",
       "      <th></th>\n",
       "      <th>Name</th>\n",
       "    </tr>\n",
       "  </thead>\n",
       "  <tbody>\n",
       "    <tr>\n",
       "      <th>0</th>\n",
       "      <td>Abhijit Kane</td>\n",
       "    </tr>\n",
       "    <tr>\n",
       "      <th>1</th>\n",
       "      <td>Abhimanyu Munjal</td>\n",
       "    </tr>\n",
       "    <tr>\n",
       "      <th>2</th>\n",
       "      <td>Abhishek Deo</td>\n",
       "    </tr>\n",
       "    <tr>\n",
       "      <th>3</th>\n",
       "      <td>Abhishek Sharma</td>\n",
       "    </tr>\n",
       "    <tr>\n",
       "      <th>4</th>\n",
       "      <td>Achin Kochar</td>\n",
       "    </tr>\n",
       "    <tr>\n",
       "      <th>5</th>\n",
       "      <td>Aditya Singh</td>\n",
       "    </tr>\n",
       "    <tr>\n",
       "      <th>6</th>\n",
       "      <td>Ajay Lavakare</td>\n",
       "    </tr>\n",
       "    <tr>\n",
       "      <th>7</th>\n",
       "      <td>Alok Rawat</td>\n",
       "    </tr>\n",
       "    <tr>\n",
       "      <th>8</th>\n",
       "      <td>Amit Bhasin</td>\n",
       "    </tr>\n",
       "    <tr>\n",
       "      <th>9</th>\n",
       "      <td>Amit Chaudhary</td>\n",
       "    </tr>\n",
       "  </tbody>\n",
       "</table>\n",
       "</div>"
      ],
      "text/plain": [
       "               Name\n",
       "0      Abhijit Kane\n",
       "1  Abhimanyu Munjal\n",
       "2      Abhishek Deo\n",
       "3   Abhishek Sharma\n",
       "4      Achin Kochar\n",
       "5      Aditya Singh\n",
       "6     Ajay Lavakare\n",
       "7        Alok Rawat\n",
       "8       Amit Bhasin\n",
       "9    Amit Chaudhary"
      ]
     },
     "execution_count": 15,
     "metadata": {},
     "output_type": "execute_result"
    }
   ],
   "source": [
    "df  = pd.read_csv(\"Names_10.csv\")\n",
    "df"
   ]
  },
  {
   "cell_type": "code",
   "execution_count": 31,
   "metadata": {},
   "outputs": [
    {
     "name": "stdout",
     "output_type": "stream",
     "text": [
      "['Abhijit Kane', 'Abhimanyu Munjal', 'Abhishek Deo', 'Abhishek Sharma', 'Achin Kochar', 'Aditya Singh', 'Ajay Lavakare', 'Alok Rawat', 'Amit Bhasin', 'Amit Chaudhary']\n"
     ]
    }
   ],
   "source": [
    "name_list = []\n",
    "linkedin_urls = {}\n",
    "for index, row in df.iterrows():\n",
    "    name = row['Name']\n",
    "    name_list.append(name)\n",
    "print(name_list)"
   ]
  },
  {
   "cell_type": "code",
   "execution_count": 60,
   "metadata": {},
   "outputs": [
    {
     "name": "stderr",
     "output_type": "stream",
     "text": [
      "<ipython-input-60-0e4c47e6ec27>:9: DeprecationWarning: executable_path has been deprecated, please pass in a Service object\n",
      "  driver = webdriver.Chrome(executable_path=chrome_driver_path)\n"
     ]
    }
   ],
   "source": [
    "# Configure Selenium webdriver\n",
    "options = webdriver.ChromeOptions()\n",
    "options.add_argument('--headless')  # Run Chrome in headless mode\n",
    "# Specify the path to the ChromeDriver executable\n",
    "\n",
    "chrome_driver_path = 'C:\\Program Files\\Google\\Chrome\\Application\\chromedriver.exe'\n",
    "\n",
    "# Configure Selenium webdriver with the path to ChromeDriver\n",
    "driver = webdriver.Chrome(executable_path=chrome_driver_path)"
   ]
  },
  {
   "cell_type": "code",
   "execution_count": 61,
   "metadata": {},
   "outputs": [
    {
     "name": "stdout",
     "output_type": "stream",
     "text": [
      "{'Abhijit Kane': 'https://in.linkedin.com/in/abhijitkane', 'Abhimanyu Munjal': 'https://in.linkedin.com/in/abhimanyu-munjal-2224a5b0', 'Abhishek Deo': 'https://in.linkedin.com/in/abhishek-deo', 'Abhishek Sharma': 'https://www.linkedin.com/in/sharmaabhishek', 'Achin Kochar': 'https://in.linkedin.com/in/achin-kochar-8b3204178', 'Aditya Singh': 'https://in.linkedin.com/in/aditya-singh-aaa80719', 'Ajay Lavakare': 'https://in.linkedin.com/in/ajaylavakare', 'Alok Rawat': 'https://www.linkedin.com/in/alok-rawat-in', 'Amit Bhasin': 'https://in.linkedin.com/in/amit-bhasin-b42990a2', 'Amit Chaudhary': 'https://in.linkedin.com/in/4daxis'}\n"
     ]
    }
   ],
   "source": [
    "for name in name_list:\n",
    "    # name = \"Abhijit Kane\"\n",
    "    query = f'{name} site:linkedin.com'\n",
    "    search_url = f'https://www.google.com/search?q={query}'\n",
    "\n",
    "        # Perform the search\n",
    "    driver.get(search_url)\n",
    "    html = driver.page_source\n",
    "\n",
    "        # Parse the search results page with BeautifulSoup\n",
    "    soup = BeautifulSoup(html, 'html.parser')\n",
    "\n",
    "        # Find the first LinkedIn URL in the search results\n",
    "    first_link = soup.find('div', class_='yuRUbf').a['href']\n",
    "    linkedin_urls[name] = first_link    \n",
    "    # if first_link:\n",
    "    #     linkedin_url = first_link['href']\n",
    "    #     linkedin_urls[name] = linkedin_url\n",
    "\n",
    "    # Close the Selenium webdriver\n",
    "driver.quit()\n",
    "\n",
    "# print(first_link)\n",
    "print(linkedin_urls)\n"
   ]
  },
  {
   "cell_type": "code",
   "execution_count": 62,
   "metadata": {},
   "outputs": [
    {
     "data": {
      "text/html": [
       "<div>\n",
       "<style scoped>\n",
       "    .dataframe tbody tr th:only-of-type {\n",
       "        vertical-align: middle;\n",
       "    }\n",
       "\n",
       "    .dataframe tbody tr th {\n",
       "        vertical-align: top;\n",
       "    }\n",
       "\n",
       "    .dataframe thead th {\n",
       "        text-align: right;\n",
       "    }\n",
       "</style>\n",
       "<table border=\"1\" class=\"dataframe\">\n",
       "  <thead>\n",
       "    <tr style=\"text-align: right;\">\n",
       "      <th></th>\n",
       "      <th>Name</th>\n",
       "      <th>LinkedIn ID</th>\n",
       "    </tr>\n",
       "  </thead>\n",
       "  <tbody>\n",
       "    <tr>\n",
       "      <th>0</th>\n",
       "      <td>Abhijit Kane</td>\n",
       "      <td>https://in.linkedin.com/in/abhijitkane</td>\n",
       "    </tr>\n",
       "    <tr>\n",
       "      <th>1</th>\n",
       "      <td>Abhimanyu Munjal</td>\n",
       "      <td>https://in.linkedin.com/in/abhimanyu-munjal-22...</td>\n",
       "    </tr>\n",
       "    <tr>\n",
       "      <th>2</th>\n",
       "      <td>Abhishek Deo</td>\n",
       "      <td>https://in.linkedin.com/in/abhishek-deo</td>\n",
       "    </tr>\n",
       "    <tr>\n",
       "      <th>3</th>\n",
       "      <td>Abhishek Sharma</td>\n",
       "      <td>https://www.linkedin.com/in/sharmaabhishek</td>\n",
       "    </tr>\n",
       "    <tr>\n",
       "      <th>4</th>\n",
       "      <td>Achin Kochar</td>\n",
       "      <td>https://in.linkedin.com/in/achin-kochar-8b3204178</td>\n",
       "    </tr>\n",
       "    <tr>\n",
       "      <th>5</th>\n",
       "      <td>Aditya Singh</td>\n",
       "      <td>https://in.linkedin.com/in/aditya-singh-aaa80719</td>\n",
       "    </tr>\n",
       "    <tr>\n",
       "      <th>6</th>\n",
       "      <td>Ajay Lavakare</td>\n",
       "      <td>https://in.linkedin.com/in/ajaylavakare</td>\n",
       "    </tr>\n",
       "    <tr>\n",
       "      <th>7</th>\n",
       "      <td>Alok Rawat</td>\n",
       "      <td>https://www.linkedin.com/in/alok-rawat-in</td>\n",
       "    </tr>\n",
       "    <tr>\n",
       "      <th>8</th>\n",
       "      <td>Amit Bhasin</td>\n",
       "      <td>https://in.linkedin.com/in/amit-bhasin-b42990a2</td>\n",
       "    </tr>\n",
       "    <tr>\n",
       "      <th>9</th>\n",
       "      <td>Amit Chaudhary</td>\n",
       "      <td>https://in.linkedin.com/in/4daxis</td>\n",
       "    </tr>\n",
       "  </tbody>\n",
       "</table>\n",
       "</div>"
      ],
      "text/plain": [
       "               Name                                        LinkedIn ID\n",
       "0      Abhijit Kane             https://in.linkedin.com/in/abhijitkane\n",
       "1  Abhimanyu Munjal  https://in.linkedin.com/in/abhimanyu-munjal-22...\n",
       "2      Abhishek Deo            https://in.linkedin.com/in/abhishek-deo\n",
       "3   Abhishek Sharma         https://www.linkedin.com/in/sharmaabhishek\n",
       "4      Achin Kochar  https://in.linkedin.com/in/achin-kochar-8b3204178\n",
       "5      Aditya Singh   https://in.linkedin.com/in/aditya-singh-aaa80719\n",
       "6     Ajay Lavakare            https://in.linkedin.com/in/ajaylavakare\n",
       "7        Alok Rawat          https://www.linkedin.com/in/alok-rawat-in\n",
       "8       Amit Bhasin    https://in.linkedin.com/in/amit-bhasin-b42990a2\n",
       "9    Amit Chaudhary                  https://in.linkedin.com/in/4daxis"
      ]
     },
     "execution_count": 62,
     "metadata": {},
     "output_type": "execute_result"
    }
   ],
   "source": [
    "rows = [{'Name': name, 'LinkedIn ID': url} for name, url in linkedin_urls.items()]\n",
    "\n",
    "# Create a DataFrame from the list of dictionaries\n",
    "df1 = pd.DataFrame(rows)\n",
    "\n",
    "# Save the DataFrame to a new CSV file\n",
    "df1.to_csv('Names_Linkedin.csv', index=False)\n",
    "df1"
   ]
  },
  {
   "cell_type": "code",
   "execution_count": null,
   "metadata": {},
   "outputs": [],
   "source": []
  }
 ],
 "metadata": {
  "kernelspec": {
   "display_name": "Python 3",
   "language": "python",
   "name": "python3"
  },
  "language_info": {
   "codemirror_mode": {
    "name": "ipython",
    "version": 3
   },
   "file_extension": ".py",
   "mimetype": "text/x-python",
   "name": "python",
   "nbconvert_exporter": "python",
   "pygments_lexer": "ipython3",
   "version": "3.8.5"
  }
 },
 "nbformat": 4,
 "nbformat_minor": 4
}
